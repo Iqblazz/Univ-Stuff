{
 "cells": [
  {
   "cell_type": "code",
   "execution_count": 110,
   "metadata": {},
   "outputs": [],
   "source": [
    "import numpy as np"
   ]
  },
  {
   "cell_type": "code",
   "execution_count": 111,
   "metadata": {},
   "outputs": [],
   "source": [
    "def check_diagonally_dominant(matrix):\n",
    "    diag = np.diag(np.abs(matrix))\n",
    "\n",
    "    except_diag = np.sum (np.abs(matrix), axis = 1) - diag\n",
    "    if np.all(diag > except_diag):\n",
    "        return True\n",
    "    \n",
    "    print(\"Not diagonally dominant\")\n",
    "    return False"
   ]
  },
  {
   "cell_type": "code",
   "execution_count": 112,
   "metadata": {},
   "outputs": [],
   "source": [
    "Xs = [\n",
    "  [\n",
    "    [7, -2, -3],\n",
    "    [4, -6, 1],\n",
    "    [1, 2, -4]\n",
    "  ],\n",
    "  [\n",
    "    [12, -4, 2, 3],\n",
    "    [3, 7, -1, -3],\n",
    "    [-1, 3, 9, 2],\n",
    "    [-5, 1, -2, 9]\n",
    "  ],\n",
    "  [\n",
    "    [2, -5, 3],\n",
    "    [3, 6, 4],\n",
    "    [-1, -3, 2]\n",
    "  ],\n",
    "  [\n",
    "    [7, -3, -1],\n",
    "    [2, -5, 1],\n",
    "    [-3, 2, -8]\n",
    "  ],\n",
    "  [\n",
    "    [7, -1, 5, 1],\n",
    "    [-1, 4, -1, 1],\n",
    "    [3, -3, 10, 2],\n",
    "    [-2, 3, -4, 11]\n",
    "  ],\n",
    "  [\n",
    "    [1, -3, 2],\n",
    "    [3, -2, 4],\n",
    "    [2, 1, -2]\n",
    "  ],\n",
    "  [\n",
    "    [2, 7, -3],\n",
    "    [1, -2, -3],\n",
    "    [-1, 3, -2]\n",
    "  ]\n",
    "]\n"
   ]
  },
  {
   "cell_type": "code",
   "execution_count": 113,
   "metadata": {},
   "outputs": [
    {
     "name": "stdout",
     "output_type": "stream",
     "text": [
      "True\n"
     ]
    }
   ],
   "source": [
    "# check diagonally dominant\n",
    "print(check_diagonally_dominant(Xs[0]))"
   ]
  },
  {
   "cell_type": "code",
   "execution_count": 114,
   "metadata": {},
   "outputs": [],
   "source": [
    "# gauss seidell\n",
    "def gauss_seidel(matrix_x, matrix_y, iter, tol):\n",
    "\n",
    "    # convert nilai matrix dengan np array\n",
    "    matrix_x = np.array(matrix_x)\n",
    "    matrix_y = np.array(matrix_y)\n",
    "\n",
    "    # init value\n",
    "    init_val = np.zeros(np.shape(matrix_x)[0])\n",
    "\n",
    "    # diagonal dari setiap matrix x\n",
    "    diag = np.diag(matrix_x)\n",
    "    matrix_x = -matrix_x\n",
    "    np.fill_diagonal(matrix_x, 0)\n",
    "\n",
    "    # iteration semua nilai matrix x\n",
    "    for i in range(iter):\n",
    "        new_val = np.array(init_val)\n",
    "\n",
    "        # looping setiap matrix x -> 0,1\n",
    "        for j, row in enumerate(matrix_x):\n",
    "            new_val[j] = (matrix_y[j] + np.dot(row, new_val)) / diag[j]\n",
    "\n",
    "        # euclidean distance\n",
    "        euclidean_dist = np.sqrt(np.dot(new_val - init_val, new_val - init_val))\n",
    "        print(f\"distance: {np.dot(new_val - init_val, new_val - init_val)}\")\n",
    "        \n",
    "        # print new value\n",
    "        print(f\"Iteration {i}. : {new_val}\")\n",
    "\n",
    "        # validasi\n",
    "        if euclidean_dist < tol:\n",
    "            return True\n",
    "        \n",
    "        # ganti nilai init val dengan new val kalau validasi euclidean gagal\n",
    "        init_val = new_val\n",
    "\n",
    "    return False\n",
    "\n"
   ]
  },
  {
   "cell_type": "code",
   "execution_count": 115,
   "metadata": {},
   "outputs": [
    {
     "name": "stdout",
     "output_type": "stream",
     "text": [
      "No. 1: A: [[7, -2, -3], [4, -6, 1], [1, 2, -4]], y: [17, 8, 11]\n",
      "distance: 9.979591836734693\n",
      "Iteration 0. : [ 2.42857143  0.28571429 -2.        ]\n",
      "distance: 1.7077143782683133\n",
      "Iteration 1. : [ 1.65306122 -0.56462585 -2.61904762]\n",
      "distance: 0.574860363569433\n",
      "Iteration 2. : [ 1.14480078 -1.00664075 -2.96712018]\n",
      "distance: 0.1702609371864458\n",
      "Iteration 3. : [ 0.86933685 -1.24829546 -3.15681352]\n",
      "distance: 0.05069880756976189\n",
      "Iteration 4. : [ 0.7189955  -1.38013858 -3.26032042]\n",
      "distance: 0.015093412396727943\n",
      "Iteration 5. : [ 0.63696594 -1.45207611 -3.31679657]\n",
      "distance: 0.004493459713163011\n",
      "Iteration 6. : [ 0.5922083  -1.49132723 -3.34761154]\n",
      "distance: 0.0013377474057258004\n",
      "Iteration 7. : [ 0.56778727 -1.51274374 -3.36442505]\n",
      "distance: 0.0003982606410817883\n",
      "Iteration 8. : [ 0.55446248 -1.52442919 -3.37359897]\n",
      "distance: 0.00011856613398697047\n",
      "Iteration 9. : [ 0.5471921  -1.5308051  -3.37860452]\n",
      "distance: 3.529831140415496e-05\n",
      "Iteration 10. : [ 0.54322518 -1.53428397 -3.38133569]\n",
      "Convergent\n",
      "No. 2: A: [[12, -4, 2, 3], [3, 7, -1, -3], [-1, 3, 9, 2], [-5, 1, -2, 9]], y: [7, 5, 12, 8]\n",
      "Not diagonally dominant\n",
      "No. 3: A: [[2, -5, 3], [3, 6, 4], [-1, -3, 2]], y: [13, 25, 7]\n",
      "Not diagonally dominant\n",
      "No. 4: A: [[7, -3, -1], [2, -5, 1], [-3, 2, -8]], y: [8, 5, 1]\n",
      "distance: 2.0759311224489796\n",
      "Iteration 0. : [ 1.14285714 -0.54285714 -0.68928571]\n",
      "distance: 0.1859104007770199\n",
      "Iteration 1. : [ 0.81173469 -0.81316327 -0.63269133]\n",
      "distance: 0.013676551818965415\n",
      "Iteration 2. : [ 0.70397413 -0.84494862 -0.60022745]\n",
      "distance: 0.00010588729376738064\n",
      "Iteration 3. : [ 0.69498953 -0.84204968 -0.59613349]\n",
      "distance: 5.829081619581664e-06\n",
      "Iteration 4. : [ 0.69681678 -0.84049999 -0.59643129]\n",
      "Convergent\n",
      "No. 5: A: [[7, -1, 5, 1], [-1, 4, -1, 1], [3, -3, 10, 2], [-2, 3, -4, 11]], y: [10, 5, 7, 14]\n",
      "Not diagonally dominant\n",
      "No. 6: A: [[1, -3, 2], [3, -2, 4], [2, 1, -2]], y: [6, 9, 4]\n",
      "Not diagonally dominant\n",
      "No. 7: A: [[2, 7, -3], [1, -2, -3], [-1, 3, -2]], y: [11, 1, 6]\n",
      "Not diagonally dominant\n"
     ]
    }
   ],
   "source": [
    "# ambil semua data Xs Ys masukkin ke gauss seidel\n",
    "for i, (matrix_x, matrix_y) in enumerate(zip(Xs, Ys)):\n",
    "    print(f\"No. {i+1}: A: {matrix_x}, y: {matrix_y}\")\n",
    "    # check setiap looping matrix diagonal dominant\n",
    "    if check_diagonally_dominant(np.array(matrix_x)):\n",
    "        # jika true, maka itung gauss seidel\n",
    "        if gauss_seidel(matrix_x, matrix_y, 15, 0.010):\n",
    "            print(\"Convergent\")\n",
    "        else:\n",
    "            print(\"Not Covergent\")"
   ]
  }
 ],
 "metadata": {
  "kernelspec": {
   "display_name": "scientific_computing",
   "language": "python",
   "name": "python3"
  },
  "language_info": {
   "codemirror_mode": {
    "name": "ipython",
    "version": 3
   },
   "file_extension": ".py",
   "mimetype": "text/x-python",
   "name": "python",
   "nbconvert_exporter": "python",
   "pygments_lexer": "ipython3",
   "version": "3.7.6"
  },
  "orig_nbformat": 4
 },
 "nbformat": 4,
 "nbformat_minor": 2
}
