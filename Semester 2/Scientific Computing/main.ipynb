{
 "cells": [
  {
   "cell_type": "code",
   "execution_count": 6,
   "metadata": {},
   "outputs": [
    {
     "name": "stdout",
     "output_type": "stream",
     "text": [
      "[ -3   4   7 -10   2 123  56]\n",
      "2\n",
      "[0. 0. 0. 0. 0. 0. 0. 0. 0. 0.]\n",
      "[1. 1. 1. 1. 1. 1. 1. 1. 1. 1.]\n",
      "[1. 1. 1. 1. 1. 1. 1. 1. 1. 1.]\n",
      "[0 1 2 3 4 5 6 7 8 9]\n"
     ]
    }
   ],
   "source": [
    "import numpy as np\n",
    "\n",
    "# np.array\n",
    "\n",
    "list1 = [[1, 2, 3, 4, 5], [6, 7, 8, 9, 10]]\n",
    "\n",
    "array1 = np.array(list1)\n",
    "\n",
    "array2 = np.array([-3, 4, 7, -10, 2, 123, 56])\n",
    "\n",
    "print(array2)\n",
    "\n",
    "# print(array1)\n",
    "\n",
    "# print(np.shape(array1))\n",
    "\n",
    "print(np.ndim(array1))\n",
    "\n",
    "zeros = np.zeros(10)\n",
    "print(zeros)\n",
    "\n",
    "ones = np.ones(10)\n",
    "print(ones)\n",
    "\n",
    "empty = np.empty(10)\n",
    "print(empty)\n",
    "\n",
    "print(np.arange(10))\n",
    "\n",
    "#np.sum(array2)\n",
    "\n",
    "#np.min(array2)\n",
    "\n",
    "#print(np.cumsum(array2))\n",
    "\n",
    "#np.reshape(ones, (2,5))\n",
    "\n",
    "matrix_x  = [[1,2,3],\n",
    "             [4,5,6],\n",
    "             [7,8,9]]\n",
    "\n",
    "matrix_y = [[5,2,3],\n",
    "            [3,3,10],\n",
    "            [7,2,9]]\n",
    "\n",
    "\n",
    "#print(np.dot(matrix_x, matrix_y))\n",
    "\n",
    "#print(np.abs(array2))\n",
    "\n",
    "#print(np.diag(matrix_x))\n",
    "\n",
    "#print(np.sign(-12))\n",
    "\n"
   ]
  },
  {
   "attachments": {},
   "cell_type": "markdown",
   "metadata": {},
   "source": []
  }
 ],
 "metadata": {
  "kernelspec": {
   "display_name": "scientific_computing",
   "language": "python",
   "name": "python3"
  },
  "language_info": {
   "codemirror_mode": {
    "name": "ipython",
    "version": 3
   },
   "file_extension": ".py",
   "mimetype": "text/x-python",
   "name": "python",
   "nbconvert_exporter": "python",
   "pygments_lexer": "ipython3",
   "version": "3.7.6"
  },
  "orig_nbformat": 4
 },
 "nbformat": 4,
 "nbformat_minor": 2
}
